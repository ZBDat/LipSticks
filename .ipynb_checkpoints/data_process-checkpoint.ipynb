{
 "cells": [
  {
   "cell_type": "code",
   "execution_count": 50,
   "metadata": {},
   "outputs": [],
   "source": [
    "import json \n",
    "import xlwt\n",
    "import pandas as pd\n",
    "\n",
    "with open(\"lipstick.json\",'r', encoding='UTF-8') as f:\n",
    "     load_dict = json.load(f)"
   ]
  },
  {
   "cell_type": "code",
   "execution_count": 53,
   "metadata": {},
   "outputs": [],
   "source": [
    "for brand in load_dict['brands']:\n",
    "    brand_name = brand['name']\n",
    "    for serie in brand['series']:\n",
    "        serie_name = serie['name']\n",
    "        list_ = serie['lipsticks']\n",
    "        for l in list_:\n",
    "            l['score'] = 0\n",
    "        pf = pd.DataFrame(list(list_))\n",
    "        #指定字段顺序\n",
    "        order = ['color','id','name','score']\n",
    "        pf = pf[order]\n",
    "        #将列名替换为中文\n",
    "        columns_map = {\n",
    "            'color':'颜色',\n",
    "            'id':'色号',\n",
    "            'name':'名称',\n",
    "            'score':'得分'\n",
    "        }\n",
    "        pf.rename(columns = columns_map,inplace = True)\n",
    "        #指定生成的Excel表格名称\n",
    "        file_path = pd.ExcelWriter(brand_name+serie_name+'.xlsx')\n",
    "        #替换空单元格\n",
    "        pf.fillna(' ',inplace = True)\n",
    "        #输出\n",
    "        pf.to_excel(file_path,encoding = 'utf-8',index = False)\n",
    "        #保存表格\n",
    "        file_path.save()"
   ]
  },
  {
   "cell_type": "code",
   "execution_count": null,
   "metadata": {},
   "outputs": [],
   "source": []
  }
 ],
 "metadata": {
  "kernelspec": {
   "display_name": "Python 3",
   "language": "python",
   "name": "python3"
  },
  "language_info": {
   "codemirror_mode": {
    "name": "ipython",
    "version": 3
   },
   "file_extension": ".py",
   "mimetype": "text/x-python",
   "name": "python",
   "nbconvert_exporter": "python",
   "pygments_lexer": "ipython3",
   "version": "3.8.5"
  }
 },
 "nbformat": 4,
 "nbformat_minor": 4
}
